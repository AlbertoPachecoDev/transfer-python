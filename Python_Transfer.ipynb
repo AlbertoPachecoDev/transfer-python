{
  "nbformat": 4,
  "nbformat_minor": 0,
  "metadata": {
    "colab": {
      "name": "Python.Transfer.ipynb",
      "provenance": [],
      "collapsed_sections": []
    },
    "kernelspec": {
      "name": "python3",
      "display_name": "Python 3"
    },
    "accelerator": "GPU"
  },
  "cells": [
    {
      "cell_type": "markdown",
      "metadata": {
        "id": "T6UKvCC4ehFw"
      },
      "source": [
        "# Caso de Estudio (Python)\n",
        "\n",
        "Ejemplos resueltos usando Python para analizar transferencia y consolidación de competencias del Pensamiento Computacional\n",
        "\n",
        "Elaborados por Alberto Pacheco (alberto@acm.org)\n",
        "\n",
        "Python 3, ver 2.0, CC-BY-NC 2021\n",
        "\n",
        "<a rel=\"license\" href=\"http://creativecommons.org/licenses/by-nc/4.0/\"><img alt=\"Licencia Creative Commons\" style=\"border-width:0\" src=\"https://i.creativecommons.org/l/by-nc/4.0/88x31.png\" /></a>\n",
        "\n",
        "---"
      ]
    },
    {
      "cell_type": "markdown",
      "metadata": {
        "id": "R32fpNF2wF8i"
      },
      "source": [
        "## Nivel 1 (Principiante)\n",
        "\n",
        "Metáfora _\"Computación como Calculadora\"_ usando ciclos y funciones"
      ]
    },
    {
      "cell_type": "code",
      "metadata": {
        "colab": {
          "base_uri": "https://localhost:8080/"
        },
        "id": "mP0GaQe0n2vE",
        "outputId": "ec02fcc4-e00c-4f0f-c261-ef43fb9ae5f3"
      },
      "source": [
        "def in2cm(x):\n",
        "  return x * 2.54\n",
        "\n",
        "datos = [5.2, 19.6, 3.7, 12.1, 16.5, 9.2]\n",
        "\n",
        "for x in datos:\n",
        "  print(f\"{x:5.2f} in = {in2cm(x):5.2f} cm\")"
      ],
      "execution_count": 11,
      "outputs": [
        {
          "output_type": "stream",
          "text": [
            " 5.20 in = 13.21 cm\n",
            "19.60 in = 49.78 cm\n",
            " 3.70 in =  9.40 cm\n",
            "12.10 in = 30.73 cm\n",
            "16.50 in = 41.91 cm\n",
            " 9.20 in = 23.37 cm\n"
          ],
          "name": "stdout"
        }
      ]
    },
    {
      "cell_type": "markdown",
      "metadata": {
        "id": "2M46e9FgnhFn"
      },
      "source": [
        "## Nivel 2 (Intermedio)\n",
        "\n",
        "Metáfora _\"Pipes\"_ usando funciones lambda"
      ]
    },
    {
      "cell_type": "code",
      "metadata": {
        "id": "LvWRmH5BOseo",
        "colab": {
          "base_uri": "https://localhost:8080/"
        },
        "outputId": "a487a7c6-6c8b-4547-9eb6-5830f3dd0921"
      },
      "source": [
        "dec2  = lambda x: round(x * 100.0) / 100.0\n",
        "in2cm = lambda x: x * 2.54\n",
        "\n",
        "datos = [5.2, 19.6, 3.7, 12.1, 16.5, 9.2]\n",
        "\n",
        "[dec2(in2cm(x)) for x in datos] "
      ],
      "execution_count": null,
      "outputs": [
        {
          "output_type": "execute_result",
          "data": {
            "text/plain": [
              "[13.21, 49.78, 9.4, 30.73, 41.91, 23.37]"
            ]
          },
          "metadata": {
            "tags": []
          },
          "execution_count": 1
        }
      ]
    },
    {
      "cell_type": "code",
      "metadata": {
        "id": "XiLGIFjxjy5x",
        "colab": {
          "base_uri": "https://localhost:8080/"
        },
        "outputId": "e8c97ca6-30f7-4d40-9a7c-6d5a01f30041"
      },
      "source": [
        "fmt = lambda x, y: f\"{x:6.2f} in = {y:6.2f} cm\"\n",
        "\n",
        "for x, y in zip(datos, list(map(dec2, map(in2cm, datos)))):\n",
        "  print(fmt(x,y))"
      ],
      "execution_count": null,
      "outputs": [
        {
          "output_type": "stream",
          "text": [
            "  5.20 in =  13.21 cm\n",
            " 19.60 in =  49.78 cm\n",
            "  3.70 in =   9.40 cm\n",
            " 12.10 in =  30.73 cm\n",
            " 16.50 in =  41.91 cm\n",
            "  9.20 in =  23.37 cm\n"
          ],
          "name": "stdout"
        }
      ]
    },
    {
      "cell_type": "code",
      "metadata": {
        "id": "MIMv12aHlmae",
        "colab": {
          "base_uri": "https://localhost:8080/"
        },
        "outputId": "f8a0d90e-08a9-43fe-c4be-61429f747654"
      },
      "source": [
        "in2cm = lambda x: x * 2.54\n",
        "dec2  = lambda x: round(x * 100.0) / 100.0\n",
        "\n",
        "datos = [5.2, 19.6, 3.7, 12.1, 16.5, 9.2]\n",
        "\n",
        "list(map(dec2, reversed(sorted(filter(lambda x: 10.0 <= x <= 40.0, map(in2cm, datos))))))[:3]"
      ],
      "execution_count": 7,
      "outputs": [
        {
          "output_type": "execute_result",
          "data": {
            "text/plain": [
              "[30.73, 23.37, 13.21]"
            ]
          },
          "metadata": {
            "tags": []
          },
          "execution_count": 7
        }
      ]
    },
    {
      "cell_type": "markdown",
      "metadata": {
        "id": "KigXONktpDJN"
      },
      "source": [
        "## Nivel 3 (Avanzado)\n",
        "\n",
        "Metáfora _\"Pipes\"_ usando librería Toolz"
      ]
    },
    {
      "cell_type": "markdown",
      "metadata": {
        "id": "epqig-TVofmR"
      },
      "source": [
        "## Librería [Toolz](https://toolz.readthedocs.io/en/latest/)"
      ]
    },
    {
      "cell_type": "markdown",
      "metadata": {
        "id": "eZnZofMwzE_2"
      },
      "source": [
        "- [Toolz examples](https://yardsale8.github.io/stat489_book/FunctionalListProcessing/CommonPatternsForProcessingSequencesWithDictionaries.html)\n",
        "- [Curry syntactic sugar](https://toolz.readthedocs.io/en/latest/curry.html)\n",
        "- [More options](https://people.duke.edu/~ccc14/sta-663/FunctionsSolutions.html)"
      ]
    },
    {
      "cell_type": "code",
      "metadata": {
        "id": "4yXmMVX1u8qk",
        "colab": {
          "base_uri": "https://localhost:8080/"
        },
        "outputId": "8db4c6fa-fe2a-4cc3-852c-33e4786a75d8"
      },
      "source": [
        "from toolz import *\n",
        "from toolz.curried import map, filter, take\n",
        "\n",
        "top = pipe(datos,\n",
        "    map(in2cm),\n",
        "    filter(lambda x: 10 <= x <= 40),\n",
        "    map(dec2),\n",
        "    sorted,\n",
        "    reversed,\n",
        "    take(3),\n",
        "    list)\n",
        "\n",
        "for x in top:\n",
        "  print(x, \"cm\")"
      ],
      "execution_count": 10,
      "outputs": [
        {
          "output_type": "stream",
          "text": [
            "30.73 cm\n",
            "23.37 cm\n",
            "13.21 cm\n"
          ],
          "name": "stdout"
        }
      ]
    },
    {
      "cell_type": "code",
      "metadata": {
        "id": "z9TcuEqh3r6R",
        "colab": {
          "base_uri": "https://localhost:8080/"
        },
        "outputId": "a0f1d229-4fc2-462b-f0d7-a583ac6ef279"
      },
      "source": [
        "from toolz import *\n",
        "\n",
        "in_2_cm  = lambda L: map(in2cm, L)\n",
        "decim_2  = lambda L: map(dec2, L)\n",
        "ord_may  = lambda L: reversed(sorted(L))\n",
        "cm2in    = lambda x: x / 2.54\n",
        "def r(x, y): print(f\"{x:6.2f} in ={y:6.2f} cm\")\n",
        "\n",
        "@curry\n",
        "def en_rango(r, L): \n",
        "  return filter(lambda x: r[0] <= x <= r[1], L)\n",
        "\n",
        "@curry\n",
        "def top_n(n, L):\n",
        "  return list(take(n, L))\n",
        "\n",
        "def top(L, rango, tam):\n",
        "  assert tam in range(1, len(L)), \"Error: invalid parameter n\"\n",
        "  return list(pipe(\n",
        "    L,\n",
        "    in_2_cm,\n",
        "    en_rango(rango),\n",
        "    ord_may,\n",
        "    top_n(tam),\n",
        "    decim_2))\n",
        "\n",
        "for cm in top(datos, rango=(10,40), tam=3):\n",
        "  r(cm2in(cm), cm)"
      ],
      "execution_count": 12,
      "outputs": [
        {
          "output_type": "stream",
          "text": [
            " 12.10 in = 30.73 cm\n",
            "  9.20 in = 23.37 cm\n",
            "  5.20 in = 13.21 cm\n"
          ],
          "name": "stdout"
        }
      ]
    }
  ]
}